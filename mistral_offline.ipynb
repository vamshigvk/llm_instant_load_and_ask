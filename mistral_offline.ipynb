{
 "cells": [
  {
   "cell_type": "code",
   "execution_count": null,
   "id": "01c8362a",
   "metadata": {},
   "outputs": [
    {
     "name": "stderr",
     "output_type": "stream",
     "text": [
      "AVX = 0 | AVX2 = 0 | AVX512 = 0 | AVX512_VBMI = 0 | AVX512_VNNI = 0 | FMA = 0 | NEON = 0 | ARM_FMA = 0 | F16C = 0 | FP16_VA = 0 | WASM_SIMD = 0 | BLAS = 0 | SSE3 = 0 | SSSE3 = 0 | VSX = 0 | \n"
     ]
    }
   ],
   "source": [
    "from llama_cpp import Llama\n",
    "model = \"data/openhermes-2-mistral-7b.Q5_K_M.gguf\"  # instruction model\n",
    "llm = Llama(model_path=model, n_ctx=8192, n_batch=512, n_threads=7, n_gpu_layers=2, verbose=True, seed=42)\n",
    "system = \"\"\"\n",
    "Follow the instructions below to complete the task.\n",
    "\"\"\"\n",
    "\n",
    "user = \"\"\"\n",
    "Create a PHP script to scan a directory and print the contents of the directory.\n",
    "\"\"\"\n",
    "\n",
    "message = f\"<s>[INST] {system} [/INST]</s>{user}\"\n",
    "output = llm(message, echo=True, stream=False, max_tokens=4096)\n",
    "print(output['usage'])\n",
    "output = output['choices'][0]['text'].replace(message, '')\n",
    "print(output)"
   ]
  },
  {
   "cell_type": "code",
   "execution_count": null,
   "id": "cc5a23f1",
   "metadata": {},
   "outputs": [],
   "source": []
  }
 ],
 "metadata": {
  "kernelspec": {
   "display_name": "Python 3 (ipykernel)",
   "language": "python",
   "name": "python3"
  },
  "language_info": {
   "codemirror_mode": {
    "name": "ipython",
    "version": 3
   },
   "file_extension": ".py",
   "mimetype": "text/x-python",
   "name": "python",
   "nbconvert_exporter": "python",
   "pygments_lexer": "ipython3",
   "version": "3.11.2"
  }
 },
 "nbformat": 4,
 "nbformat_minor": 5
}
